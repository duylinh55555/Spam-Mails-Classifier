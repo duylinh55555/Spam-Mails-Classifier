{
 "cells": [
  {
   "cell_type": "markdown",
   "metadata": {},
   "source": [
    "## Email Spam-Ham dectector"
   ]
  },
  {
   "cell_type": "code",
   "execution_count": 1,
   "metadata": {},
   "outputs": [
    {
     "name": "stderr",
     "output_type": "stream",
     "text": [
      "[nltk_data] Downloading package stopwords to\n",
      "[nltk_data]     C:\\Users\\linh9\\AppData\\Roaming\\nltk_data...\n",
      "[nltk_data]   Package stopwords is already up-to-date!\n"
     ]
    },
    {
     "data": {
      "text/plain": [
       "True"
      ]
     },
     "execution_count": 1,
     "metadata": {},
     "output_type": "execute_result"
    }
   ],
   "source": [
    "import numpy as np\n",
    "import pandas as pd\n",
    "import nltk\n",
    "from nltk.corpus import stopwords\n",
    "import string\n",
    "\n",
    "df = pd.read_csv('datasets/spam_ham_dataset.csv')\n",
    "\n",
    "nltk.download('stopwords')"
   ]
  },
  {
   "cell_type": "markdown",
   "metadata": {},
   "source": [
    "### Prepare data & Training"
   ]
  },
  {
   "cell_type": "code",
   "execution_count": 22,
   "metadata": {},
   "outputs": [
    {
     "data": {
      "text/plain": [
       "0    3672\n",
       "1    1499\n",
       "Name: label_num, dtype: int64"
      ]
     },
     "execution_count": 22,
     "metadata": {},
     "output_type": "execute_result"
    }
   ],
   "source": [
    "df['label_num'].value_counts()"
   ]
  },
  {
   "cell_type": "code",
   "execution_count": 23,
   "metadata": {},
   "outputs": [
    {
     "data": {
      "text/html": [
       "<div>\n",
       "<style scoped>\n",
       "    .dataframe tbody tr th:only-of-type {\n",
       "        vertical-align: middle;\n",
       "    }\n",
       "\n",
       "    .dataframe tbody tr th {\n",
       "        vertical-align: top;\n",
       "    }\n",
       "\n",
       "    .dataframe thead th {\n",
       "        text-align: right;\n",
       "    }\n",
       "</style>\n",
       "<table border=\"1\" class=\"dataframe\">\n",
       "  <thead>\n",
       "    <tr style=\"text-align: right;\">\n",
       "      <th></th>\n",
       "      <th>Unnamed: 0</th>\n",
       "      <th>label</th>\n",
       "      <th>text</th>\n",
       "      <th>label_num</th>\n",
       "    </tr>\n",
       "  </thead>\n",
       "  <tbody>\n",
       "    <tr>\n",
       "      <th>0</th>\n",
       "      <td>605</td>\n",
       "      <td>ham</td>\n",
       "      <td>Subject: enron methanol ; meter # : 988291\\r\\n...</td>\n",
       "      <td>0</td>\n",
       "    </tr>\n",
       "    <tr>\n",
       "      <th>1</th>\n",
       "      <td>2349</td>\n",
       "      <td>ham</td>\n",
       "      <td>Subject: hpl nom for january 9 , 2001\\r\\n( see...</td>\n",
       "      <td>0</td>\n",
       "    </tr>\n",
       "    <tr>\n",
       "      <th>2</th>\n",
       "      <td>3624</td>\n",
       "      <td>ham</td>\n",
       "      <td>Subject: neon retreat\\r\\nho ho ho , we ' re ar...</td>\n",
       "      <td>0</td>\n",
       "    </tr>\n",
       "    <tr>\n",
       "      <th>3</th>\n",
       "      <td>4685</td>\n",
       "      <td>spam</td>\n",
       "      <td>Subject: photoshop , windows , office . cheap ...</td>\n",
       "      <td>1</td>\n",
       "    </tr>\n",
       "    <tr>\n",
       "      <th>4</th>\n",
       "      <td>2030</td>\n",
       "      <td>ham</td>\n",
       "      <td>Subject: re : indian springs\\r\\nthis deal is t...</td>\n",
       "      <td>0</td>\n",
       "    </tr>\n",
       "  </tbody>\n",
       "</table>\n",
       "</div>"
      ],
      "text/plain": [
       "   Unnamed: 0 label                                               text  \\\n",
       "0         605   ham  Subject: enron methanol ; meter # : 988291\\r\\n...   \n",
       "1        2349   ham  Subject: hpl nom for january 9 , 2001\\r\\n( see...   \n",
       "2        3624   ham  Subject: neon retreat\\r\\nho ho ho , we ' re ar...   \n",
       "3        4685  spam  Subject: photoshop , windows , office . cheap ...   \n",
       "4        2030   ham  Subject: re : indian springs\\r\\nthis deal is t...   \n",
       "\n",
       "   label_num  \n",
       "0          0  \n",
       "1          0  \n",
       "2          0  \n",
       "3          1  \n",
       "4          0  "
      ]
     },
     "execution_count": 23,
     "metadata": {},
     "output_type": "execute_result"
    }
   ],
   "source": [
    "df.head()"
   ]
  },
  {
   "cell_type": "code",
   "execution_count": 24,
   "metadata": {},
   "outputs": [],
   "source": [
    "def pre_process(orig_text):\n",
    "\n",
    "    # Remove punctuations\n",
    "    text_w_no_punc = [char for char in orig_text if char not in string.punctuation]\n",
    "    text_w_no_punc = ''.join(text_w_no_punc)    # list back to string\n",
    "\n",
    "    # Remove stopwords\n",
    "    clean_text = [word for word in text_w_no_punc.split()\n",
    "                    if word.lower() not in stopwords.words('english')]\n",
    "\n",
    "    return clean_text"
   ]
  },
  {
   "cell_type": "code",
   "execution_count": 25,
   "metadata": {},
   "outputs": [],
   "source": [
    "# Bag_of_words\n",
    "from sklearn.feature_extraction.text import CountVectorizer\n",
    "\n",
    "cv = CountVectorizer(analyzer=pre_process)\n",
    "texts_bow = cv.fit_transform(df['text'])"
   ]
  },
  {
   "cell_type": "code",
   "execution_count": 27,
   "metadata": {},
   "outputs": [],
   "source": [
    "# Split data\n",
    "from sklearn.model_selection import train_test_split\n",
    "\n",
    "X_train, X_test, y_train, y_test = train_test_split(texts_bow, df['label_num'], train_size=0.8, random_state=0)"
   ]
  },
  {
   "cell_type": "code",
   "execution_count": 39,
   "metadata": {},
   "outputs": [],
   "source": [
    "# Naive Bayes Classifier\n",
    "from sklearn.naive_bayes import MultinomialNB\n",
    "\n",
    "classifier = MultinomialNB().fit(X_train, y_train)"
   ]
  },
  {
   "cell_type": "code",
   "execution_count": 40,
   "metadata": {},
   "outputs": [
    {
     "data": {
      "text/plain": [
       "{'alpha': 1.0, 'class_prior': None, 'fit_prior': True}"
      ]
     },
     "execution_count": 40,
     "metadata": {},
     "output_type": "execute_result"
    }
   ],
   "source": [
    "classifier.get_params()"
   ]
  },
  {
   "cell_type": "markdown",
   "metadata": {},
   "source": [
    "### Evaluate"
   ]
  },
  {
   "cell_type": "code",
   "execution_count": 29,
   "metadata": {},
   "outputs": [],
   "source": [
    "from sklearn.metrics import classification_report, confusion_matrix, accuracy_score\n",
    "\n",
    "def evaluate(y_pred, y_test):\n",
    "    print(classification_report(y_test, y_pred))\n",
    "    print(\"Confusion matrix: \\n\", confusion_matrix(y_test, y_pred))\n",
    "    print('Accuracy: ', accuracy_score(y_test, y_pred))"
   ]
  },
  {
   "cell_type": "code",
   "execution_count": 30,
   "metadata": {},
   "outputs": [
    {
     "name": "stdout",
     "output_type": "stream",
     "text": [
      "              precision    recall  f1-score   support\n",
      "\n",
      "           0       0.98      0.98      0.98       732\n",
      "           1       0.95      0.96      0.96       303\n",
      "\n",
      "    accuracy                           0.97      1035\n",
      "   macro avg       0.97      0.97      0.97      1035\n",
      "weighted avg       0.97      0.97      0.97      1035\n",
      "\n",
      "Confusion matrix: \n",
      " [[718  14]\n",
      " [ 13 290]]\n",
      "Accuracy:  0.9739130434782609\n"
     ]
    }
   ],
   "source": [
    "y_pred = classifier.predict(X_test)\n",
    "\n",
    "evaluate(y_pred, y_test)"
   ]
  },
  {
   "cell_type": "markdown",
   "metadata": {},
   "source": [
    "##### Other algorithms"
   ]
  },
  {
   "cell_type": "code",
   "execution_count": 31,
   "metadata": {},
   "outputs": [],
   "source": [
    "from sklearn.tree import DecisionTreeClassifier\n",
    "from sklearn.svm import SVC\n",
    "\n",
    "svc = SVC(kernel='sigmoid', gamma=1.0)\n",
    "dtc = DecisionTreeClassifier(max_depth=5)\n",
    "\n",
    "classifier_list = {'SVC': svc, \"Decision Tree\": dtc}"
   ]
  },
  {
   "cell_type": "code",
   "execution_count": 32,
   "metadata": {},
   "outputs": [],
   "source": [
    "def train_classifier(classifier,X_train,y_train,X_test):\n",
    "    classifier.fit(X_train,y_train)\n",
    "    y_pred = classifier.predict(X_test)\n",
    "\n",
    "    return y_pred"
   ]
  },
  {
   "cell_type": "code",
   "execution_count": 33,
   "metadata": {},
   "outputs": [
    {
     "name": "stdout",
     "output_type": "stream",
     "text": [
      "Using  SVC\n",
      "              precision    recall  f1-score   support\n",
      "\n",
      "           0       0.86      0.87      0.87       732\n",
      "           1       0.68      0.66      0.67       303\n",
      "\n",
      "    accuracy                           0.81      1035\n",
      "   macro avg       0.77      0.77      0.77      1035\n",
      "weighted avg       0.81      0.81      0.81      1035\n",
      "\n",
      "Confusion matrix: \n",
      " [[640  92]\n",
      " [103 200]]\n",
      "Accuracy:  0.8115942028985508\n",
      "=========\n",
      "\n",
      "Using  Decision Tree\n",
      "              precision    recall  f1-score   support\n",
      "\n",
      "           0       0.99      0.78      0.87       732\n",
      "           1       0.65      0.98      0.78       303\n",
      "\n",
      "    accuracy                           0.84      1035\n",
      "   macro avg       0.82      0.88      0.83      1035\n",
      "weighted avg       0.89      0.84      0.85      1035\n",
      "\n",
      "Confusion matrix: \n",
      " [[573 159]\n",
      " [  6 297]]\n",
      "Accuracy:  0.8405797101449275\n",
      "=========\n",
      "\n"
     ]
    }
   ],
   "source": [
    "# train_classifier(svc,X_train,y_train,X_test,y_test)\n",
    "\n",
    "for name,classifier in classifier_list.items():\n",
    "    current_y_pred = train_classifier(classifier, X_train,y_train,X_test)\n",
    "    \n",
    "    print(\"Using \", name)\n",
    "    evaluate(current_y_pred, y_test)\n",
    "    print('=========\\n')"
   ]
  },
  {
   "cell_type": "markdown",
   "metadata": {},
   "source": [
    "#### Manual test"
   ]
  },
  {
   "cell_type": "code",
   "execution_count": 34,
   "metadata": {},
   "outputs": [
    {
     "name": "stdout",
     "output_type": "stream",
     "text": [
      "Subject: this has worked for me marrow enemy\n",
      "i think there is a world market for maybe five computers . - thomas watson ( 1874 - 1956 ) ; chairman of ibm ; 1943\n",
      "your highness ; i have no need of this hypothesis . - pierre laplace ( 1749 - 1827 ) ; to napoleon on why his works on celestial mechanics make no mention of god .\n",
      "you got to be careful if you dont know where youre going ; because you might not get there . - yogi berra\n",
      "\n",
      "Pre= [1], Real= 1\n"
     ]
    }
   ],
   "source": [
    "i = 534\n",
    "X_sample = df.text[i]\n",
    "y_sample = df.label_num[i]\n",
    "\n",
    "print(X_sample)\n",
    "X_sample = cv.transform([X_sample])\n",
    "\n",
    "y_pred = classifier.predict(X_sample)\n",
    "print(f'Pre= {y_pred}, Real= {y_sample}')"
   ]
  },
  {
   "cell_type": "markdown",
   "metadata": {},
   "source": [
    "#### Custom input"
   ]
  },
  {
   "cell_type": "code",
   "execution_count": 37,
   "metadata": {},
   "outputs": [
    {
     "name": "stdout",
     "output_type": "stream",
     "text": [
      "An email has been moved to the spam folder\n"
     ]
    }
   ],
   "source": [
    "# X_sample = 'daren do you have a problem if i copy the 2000 deal for pioneer and make a new one. they have flow in jan . this is giving me a meter allocation exception forjan . let me know thanks .'\n",
    "# X_sample = 'Making test Data Mining 04/05/2022 in Room 304. Host: Ho Nhat Quang'\n",
    "\n",
    "X_sample = 'The permanent fix to pen growth\\nlimited offer :add at least 4 inches or get your money back !\\n- - - - > visit us to learn more\\nno more offers'\n",
    "X_sample = cv.transform([X_sample])\n",
    "\n",
    "y_pred = classifier.predict(X_sample)\n",
    "\n",
    "if y_pred == 1:\n",
    "    print(\"An email has been moved to the spam folder\")\n",
    "else:\n",
    "    print(\"You have new email\")"
   ]
  }
 ],
 "metadata": {
  "interpreter": {
   "hash": "deed1ef4c83d2783002154787237f1ed68a6e36e545b93180137c0bc3f751f89"
  },
  "kernelspec": {
   "display_name": "Python 3.9.9 64-bit",
   "language": "python",
   "name": "python3"
  },
  "language_info": {
   "codemirror_mode": {
    "name": "ipython",
    "version": 3
   },
   "file_extension": ".py",
   "mimetype": "text/x-python",
   "name": "python",
   "nbconvert_exporter": "python",
   "pygments_lexer": "ipython3",
   "version": "3.9.9"
  },
  "orig_nbformat": 4
 },
 "nbformat": 4,
 "nbformat_minor": 2
}
